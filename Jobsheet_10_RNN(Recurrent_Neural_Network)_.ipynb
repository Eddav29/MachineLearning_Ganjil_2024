{
  "nbformat": 4,
  "nbformat_minor": 0,
  "metadata": {
    "colab": {
      "provenance": [],
      "gpuType": "V28",
      "toc_visible": true,
      "include_colab_link": true
    },
    "kernelspec": {
      "name": "python3",
      "display_name": "Python 3"
    },
    "language_info": {
      "name": "python"
    },
    "accelerator": "TPU"
  },
  "cells": [
    {
      "cell_type": "markdown",
      "metadata": {
        "id": "view-in-github",
        "colab_type": "text"
      },
      "source": [
        "<a href=\"https://colab.research.google.com/github/Eddav29/MachineLearning_Ganjil_2024/blob/main/Jobsheet_10_RNN(Recurrent_Neural_Network)_.ipynb\" target=\"_parent\"><img src=\"https://colab.research.google.com/assets/colab-badge.svg\" alt=\"Open In Colab\"/></a>"
      ]
    },
    {
      "cell_type": "markdown",
      "source": [
        "# **Jobsheet 10 Recurrent Neural Network**\n",
        "## **Eddo Dava Alfarisi**\n",
        "## **2241720232**\n",
        "\n",
        "link\n",
        "[Collab](https://colab.research.google.com/drive/1ZHhJqp2e9TCk_4CrAskmN0_WD8ZJ5de-?usp=sharing)\n",
        "\n",
        "\n",
        "Link [Github](https://)"
      ],
      "metadata": {
        "id": "qDKLt8NrYb6m"
      }
    },
    {
      "cell_type": "markdown",
      "source": [
        "# **Praktikum 1**"
      ],
      "metadata": {
        "id": "ZxZ7qExeKkVE"
      }
    },
    {
      "cell_type": "code",
      "execution_count": null,
      "metadata": {
        "id": "JcI5d30tIQwb"
      },
      "outputs": [],
      "source": [
        "import numpy as np\n",
        "import tensorflow_datasets as tfds\n",
        "import tensorflow as tf\n",
        "\n",
        "tfds.disable_progress_bar()"
      ]
    },
    {
      "cell_type": "code",
      "source": [
        "\n",
        "import matplotlib.pyplot as plt\n",
        "\n",
        "def plot_graphs(history, metric):\n",
        "    plt.plot(history.history[metric])\n",
        "    plt.plot(history.history['val_' + metric], '')\n",
        "    plt.xlabel(\"Epochs\")\n",
        "    plt.ylabel(metric)\n",
        "    plt.legend([metric, 'val_' + metric])\n"
      ],
      "metadata": {
        "id": "5IQ8PJ3yJwM4"
      },
      "execution_count": null,
      "outputs": []
    },
    {
      "cell_type": "markdown",
      "source": [
        "## **Setup input Pipeline**"
      ],
      "metadata": {
        "id": "NhCKBUHJJSRr"
      }
    },
    {
      "cell_type": "code",
      "source": [
        "dataset, info = tfds.load('imdb_reviews', with_info=True,\n",
        "                          as_supervised=True)\n",
        "train_dataset, test_dataset = dataset['train'], dataset['test']\n",
        "\n",
        "train_dataset.element_spec"
      ],
      "metadata": {
        "colab": {
          "base_uri": "https://localhost:8080/"
        },
        "id": "MKsOocy6JYwv",
        "outputId": "6478a7c8-00e2-4121-811f-82317968d593"
      },
      "execution_count": null,
      "outputs": [
        {
          "output_type": "stream",
          "name": "stdout",
          "text": [
            "Downloading and preparing dataset 80.23 MiB (download: 80.23 MiB, generated: Unknown size, total: 80.23 MiB) to /root/tensorflow_datasets/imdb_reviews/plain_text/1.0.0...\n",
            "Dataset imdb_reviews downloaded and prepared to /root/tensorflow_datasets/imdb_reviews/plain_text/1.0.0. Subsequent calls will reuse this data.\n"
          ]
        },
        {
          "output_type": "execute_result",
          "data": {
            "text/plain": [
              "(TensorSpec(shape=(), dtype=tf.string, name=None),\n",
              " TensorSpec(shape=(), dtype=tf.int64, name=None))"
            ]
          },
          "metadata": {},
          "execution_count": 3
        }
      ]
    },
    {
      "cell_type": "code",
      "source": [
        "#@title Mereturn data set ( text dan label)\n",
        "for example, label in train_dataset.take(1):\n",
        "  print('text: ', example.numpy())\n",
        "  print('label: ', label.numpy())"
      ],
      "metadata": {
        "colab": {
          "base_uri": "https://localhost:8080/"
        },
        "id": "XqwTZmJhJdV9",
        "outputId": "097f3b8a-93df-463a-fe4c-10278bc9e5fa"
      },
      "execution_count": null,
      "outputs": [
        {
          "output_type": "stream",
          "name": "stdout",
          "text": [
            "text:  b\"This was an absolutely terrible movie. Don't be lured in by Christopher Walken or Michael Ironside. Both are great actors, but this must simply be their worst role in history. Even their great acting could not redeem this movie's ridiculous storyline. This movie is an early nineties US propaganda piece. The most pathetic scenes were those when the Columbian rebels were making their cases for revolutions. Maria Conchita Alonso appeared phony, and her pseudo-love affair with Walken was nothing but a pathetic emotional plug in a movie that was devoid of any real meaning. I am disappointed that there are movies like this, ruining actor's like Christopher Walken's good name. I could barely sit through it.\"\n",
            "label:  0\n"
          ]
        }
      ]
    },
    {
      "cell_type": "code",
      "source": [
        "#@title  acak data untuk Training dan Test dan membuat kumpulan pasangan (teks, label) ini:\n",
        "BUFFER_SIZE = 10000\n",
        "BATCH_SIZE = 64\n",
        "\n",
        "train_dataset = train_dataset.shuffle(BUFFER_SIZE).batch(BATCH_SIZE).prefetch(tf.data.AUTOTUNE)\n",
        "test_dataset = test_dataset.batch(BATCH_SIZE).prefetch(tf.data.AUTOTUNE)\n",
        "\n",
        "for example, label in train_dataset.take(1):\n",
        "  print('texts: ', example.numpy()[:3])\n",
        "  print()\n",
        "  print('labels: ', label.numpy()[:3])\n"
      ],
      "metadata": {
        "colab": {
          "base_uri": "https://localhost:8080/"
        },
        "id": "qsdOAOkgJoAS",
        "outputId": "55bc1355-e037-49b3-f880-f17645cbf57c"
      },
      "execution_count": null,
      "outputs": [
        {
          "output_type": "stream",
          "name": "stdout",
          "text": [
            "texts:  [b'The films of UPA are surprisingly well rated on IMDb despite the fact that the animation quality is light-years behind that of Looney Toons, Disney and MGM at their prime. Sadly, due to rising costs in making pretty cartoons with high frame-rates and lovely backgrounds, the UPA style (which debuted about 1950) began to dominate in the late 50s and 60s. After all, the films were dirt cheap to make and they\\'d received several Oscars to \"prove\" that the cartoons were now mainstream. So as a result, lousy animation was becoming the norm and this trend wasn\\'t reversed until the 1980s.<br /><br />This UPA film is one of the early ones. The characters are very simply drawn (any simpler and they would have used stick figures) and the backgrounds were ugly--simple line drawings with colors added in a very slap-dash manner (often with a sponge and rarely completely filling the items).<br /><br />As for the story, it\\'s a jive story with a strong jazz style attitude. Some will love this, others will just find it very, very loud. It\\'s the traditional \"Frankie and Johnny\" story and because of the shootings and all, it\\'s probably not a great film for the kids. Heck, because of the animation and jazz, it\\'s not a particularly good film for me, either! Some will read my review and no doubt think I am a crank (which I am, to a degree). However, I love animated films and a little of this minimalistic UPA style goes a very, very long way and you can\\'t seriously consider them great works of art--just very, very quickly made cartoons. Ignore the Oscars and try watching some classic cartoons or something--anything else!'\n",
            " b'Seeing this movie was the most fun I\\'ve had at the cinema in a long time. However, I am not able to say whether this is a good or a bad film, because such simple qualifications simply cannot be applied. This picture has everything any movie could ever have. It has characteristics of a romantic comedy, a political commentary, a thriller, a drama, an action movie, a musical, and an absurdist self-conscious art film. It\\'s all in there, adding up to a myth.<br /><br />The basic premise is about an Indian couple, Nandini (Karishma Kapoor) and Shekhar (Sanjay Kapoor), happily living in Canada, who rush to India to visit the husband\\'s parents after a disturbing news report. The rest of the story takes place in India, where the couple find themselves in the midst of a plot of fratricidal violence. At one point, the story borrows from \"Not without my baby,\" but to call Shakti a remake of anything would be an injustice.<br /><br />The ostensible story line takes a backseat to a number of astonishing interruptions, including Shah Rukh Khan\\'s dream of Aishwarya Rai which comes as if out of another movie. In fact, the two stars are on all the posters, but they appear really late in the film, and only Shah Rukh ends up being a real character. Yet he makes up for it with a spirited and truly unexpected performance.<br /><br />Karishma Kapoor is the one with most work to do in this film, and she does an admirable job, having to link up the film\\'s twists and turns with a show of believable emotion. Another notable presence is Nana Patekar, who plays Narsimha, the tyrannical father of the husband Shekhar. Nana Patekar dominates every scene he\\'s in with a scary but nuanced character.<br /><br />The movie is not without its share of realism. Violence is rampant, but truly disturbing in the abuse received by most of the female characters, with Karishma getting soundly beaten on a number of occasions. At times, this violence is clearly disturbing but ultimately it becomes surreal as every dramatic sequence is usually followed by such comic and spectacular turns that the overall effect is nothing but cathartic.<br /><br />I have seen a share of Bollywood releases, and the mixing of genres and incredible plot resolutions are certainly their norm. But \"Shakti\" raises the bar by absorbing an even greater masala without becoming ridiculous. It is a film that achieves the grandeur of a Shakespearian tragedy, where the audience of the rabble and royalty is equally entertained. It is pure, gratuitous cinema, and the director Krishna Vamsi must have had a dream of a good time by throwing in every trick in the book. Perhaps, the all-important message of violence begetting violence and the inspiring extents of motherly love were not the thoughts on my mind, but I came out of watching \"Shakti\" exhilarated. Making movies can be the most fun in the world!'\n",
            " b'This movie explores the difficulties that strain hopes, dreams, love and friendship, and incorporates humour beautifully. Along with a stunning cast and brilliant filming, the sound track enhances and amplifies the atmosphere and mood of this work of art. All actors and actresses give an extremely good performance, surpassing expectation in every way. Parminder Nagra is brought on to the big screen for the first time in this film, and she is exceptional, capturing the vividness and vitality that this movie is all about. Keira Knightly also works well with her co-stars, and this is her best work so far.<br /><br />All in all, this is brilliant film, and one that everyone should make the effort to see at least once.']\n",
            "\n",
            "labels:  [0 1 1]\n"
          ]
        }
      ]
    },
    {
      "cell_type": "code",
      "source": [
        "#@title Teks Encoder\n",
        "VOCAB_SIZE = 1000\n",
        "encoder = tf.keras.layers.TextVectorization(\n",
        "    max_tokens=VOCAB_SIZE)\n",
        "encoder.adapt(train_dataset.map(lambda text, label: text))"
      ],
      "metadata": {
        "id": "WJmUSE6eKUXd"
      },
      "execution_count": null,
      "outputs": []
    },
    {
      "cell_type": "markdown",
      "source": [
        "membuat encoding teks (text encoding) menggunakan layer TextVectorization dari TensorFlow Keras, yang bertujuan untuk mengubah teks mentah menjadi representasi numerik (token) yang dapat diproses oleh model machine learning"
      ],
      "metadata": {
        "id": "04OO-BUHKgl8"
      }
    },
    {
      "cell_type": "code",
      "source": [
        "#@title Mengecek 20 token pertama\n",
        "vocab = np.array(encoder.get_vocabulary())\n",
        "vocab[:20]"
      ],
      "metadata": {
        "colab": {
          "base_uri": "https://localhost:8080/"
        },
        "id": "IGVea-_xKh_9",
        "outputId": "75b32c93-3da9-4edf-b054-06ae251d5377"
      },
      "execution_count": null,
      "outputs": [
        {
          "output_type": "execute_result",
          "data": {
            "text/plain": [
              "array(['', '[UNK]', 'the', 'and', 'a', 'of', 'to', 'is', 'in', 'it', 'i',\n",
              "       'this', 'that', 'br', 'was', 'as', 'for', 'with', 'movie', 'but'],\n",
              "      dtype='<U14')"
            ]
          },
          "metadata": {},
          "execution_count": 7
        }
      ]
    },
    {
      "cell_type": "code",
      "source": [
        "#@title\n",
        "encoded_example=encoder(example)[:3].numpy()\n",
        "encoded_example"
      ],
      "metadata": {
        "colab": {
          "base_uri": "https://localhost:8080/"
        },
        "id": "9BtYh6WfLA4B",
        "outputId": "474cbf47-824d-4cf2-d347-569cb5bdfc51"
      },
      "execution_count": null,
      "outputs": [
        {
          "output_type": "execute_result",
          "data": {
            "text/plain": [
              "array([[  2,  95,   5, ...,   0,   0,   0],\n",
              "       [308,  11,  18, ...,   0,   0,   0],\n",
              "       [ 11,  18,   1, ...,   0,   0,   0]])"
            ]
          },
          "metadata": {},
          "execution_count": 8
        }
      ]
    },
    {
      "cell_type": "code",
      "source": [
        "for n in range(3):\n",
        "  print(\"Original: \", example[n].numpy())\n",
        "  print(\"Round-trip: \", \" \".join(vocab[encoded_example[n]]))\n",
        "  print()"
      ],
      "metadata": {
        "colab": {
          "base_uri": "https://localhost:8080/"
        },
        "id": "sW3fA5QwLUBZ",
        "outputId": "f04d06b8-bdb4-4822-8b3f-19bf0be593a7"
      },
      "execution_count": null,
      "outputs": [
        {
          "output_type": "stream",
          "name": "stdout",
          "text": [
            "Original:  b'The films of UPA are surprisingly well rated on IMDb despite the fact that the animation quality is light-years behind that of Looney Toons, Disney and MGM at their prime. Sadly, due to rising costs in making pretty cartoons with high frame-rates and lovely backgrounds, the UPA style (which debuted about 1950) began to dominate in the late 50s and 60s. After all, the films were dirt cheap to make and they\\'d received several Oscars to \"prove\" that the cartoons were now mainstream. So as a result, lousy animation was becoming the norm and this trend wasn\\'t reversed until the 1980s.<br /><br />This UPA film is one of the early ones. The characters are very simply drawn (any simpler and they would have used stick figures) and the backgrounds were ugly--simple line drawings with colors added in a very slap-dash manner (often with a sponge and rarely completely filling the items).<br /><br />As for the story, it\\'s a jive story with a strong jazz style attitude. Some will love this, others will just find it very, very loud. It\\'s the traditional \"Frankie and Johnny\" story and because of the shootings and all, it\\'s probably not a great film for the kids. Heck, because of the animation and jazz, it\\'s not a particularly good film for me, either! Some will read my review and no doubt think I am a crank (which I am, to a degree). However, I love animated films and a little of this minimalistic UPA style goes a very, very long way and you can\\'t seriously consider them great works of art--just very, very quickly made cartoons. Ignore the Oscars and try watching some classic cartoons or something--anything else!'\n",
            "Round-trip:  the films of [UNK] are [UNK] well [UNK] on imdb despite the fact that the animation quality is [UNK] behind that of [UNK] [UNK] disney and [UNK] at their [UNK] [UNK] due to [UNK] [UNK] in making pretty [UNK] with high [UNK] and [UNK] [UNK] the [UNK] style which [UNK] about [UNK] [UNK] to [UNK] in the late [UNK] and [UNK] after all the films were [UNK] cheap to make and [UNK] [UNK] several [UNK] to [UNK] that the [UNK] were now [UNK] so as a result [UNK] animation was [UNK] the [UNK] and this [UNK] wasnt [UNK] until the [UNK] br this [UNK] film is one of the early ones the characters are very simply [UNK] any [UNK] and they would have used [UNK] [UNK] and the [UNK] were [UNK] line [UNK] with [UNK] [UNK] in a very [UNK] [UNK] often with a [UNK] and [UNK] completely [UNK] the [UNK] br as for the story its a [UNK] story with a strong [UNK] style [UNK] some will love this others will just find it very very [UNK] its the [UNK] [UNK] and [UNK] story and because of the [UNK] and all its probably not a great film for the kids [UNK] because of the animation and [UNK] its not a particularly good film for me either some will read my review and no doubt think i am a [UNK] which i am to a [UNK] however i love [UNK] films and a little of this [UNK] [UNK] style goes a very very long way and you cant seriously [UNK] them great works of [UNK] very very quickly made [UNK] [UNK] the [UNK] and try watching some classic [UNK] or [UNK] else                                                                                                                                                                                                                                                                                                                                                                                                                                                                                                                                                                                                                                                                                                      \n",
            "\n",
            "Original:  b'Seeing this movie was the most fun I\\'ve had at the cinema in a long time. However, I am not able to say whether this is a good or a bad film, because such simple qualifications simply cannot be applied. This picture has everything any movie could ever have. It has characteristics of a romantic comedy, a political commentary, a thriller, a drama, an action movie, a musical, and an absurdist self-conscious art film. It\\'s all in there, adding up to a myth.<br /><br />The basic premise is about an Indian couple, Nandini (Karishma Kapoor) and Shekhar (Sanjay Kapoor), happily living in Canada, who rush to India to visit the husband\\'s parents after a disturbing news report. The rest of the story takes place in India, where the couple find themselves in the midst of a plot of fratricidal violence. At one point, the story borrows from \"Not without my baby,\" but to call Shakti a remake of anything would be an injustice.<br /><br />The ostensible story line takes a backseat to a number of astonishing interruptions, including Shah Rukh Khan\\'s dream of Aishwarya Rai which comes as if out of another movie. In fact, the two stars are on all the posters, but they appear really late in the film, and only Shah Rukh ends up being a real character. Yet he makes up for it with a spirited and truly unexpected performance.<br /><br />Karishma Kapoor is the one with most work to do in this film, and she does an admirable job, having to link up the film\\'s twists and turns with a show of believable emotion. Another notable presence is Nana Patekar, who plays Narsimha, the tyrannical father of the husband Shekhar. Nana Patekar dominates every scene he\\'s in with a scary but nuanced character.<br /><br />The movie is not without its share of realism. Violence is rampant, but truly disturbing in the abuse received by most of the female characters, with Karishma getting soundly beaten on a number of occasions. At times, this violence is clearly disturbing but ultimately it becomes surreal as every dramatic sequence is usually followed by such comic and spectacular turns that the overall effect is nothing but cathartic.<br /><br />I have seen a share of Bollywood releases, and the mixing of genres and incredible plot resolutions are certainly their norm. But \"Shakti\" raises the bar by absorbing an even greater masala without becoming ridiculous. It is a film that achieves the grandeur of a Shakespearian tragedy, where the audience of the rabble and royalty is equally entertained. It is pure, gratuitous cinema, and the director Krishna Vamsi must have had a dream of a good time by throwing in every trick in the book. Perhaps, the all-important message of violence begetting violence and the inspiring extents of motherly love were not the thoughts on my mind, but I came out of watching \"Shakti\" exhilarated. Making movies can be the most fun in the world!'\n",
            "Round-trip:  seeing this movie was the most fun ive had at the cinema in a long time however i am not able to say whether this is a good or a bad film because such simple [UNK] simply cannot be [UNK] this picture has everything any movie could ever have it has [UNK] of a romantic comedy a political [UNK] a thriller a drama an action movie a musical and an [UNK] [UNK] art film its all in there [UNK] up to a [UNK] br the [UNK] premise is about an [UNK] couple [UNK] [UNK] [UNK] and [UNK] [UNK] [UNK] [UNK] living in [UNK] who [UNK] to [UNK] to [UNK] the [UNK] parents after a [UNK] [UNK] [UNK] the rest of the story takes place in [UNK] where the couple find themselves in the [UNK] of a plot of [UNK] violence at one point the story [UNK] from not without my baby but to call [UNK] a remake of anything would be an [UNK] br the [UNK] story line takes a [UNK] to a number of [UNK] [UNK] including [UNK] [UNK] [UNK] dream of [UNK] [UNK] which comes as if out of another movie in fact the two stars are on all the [UNK] but they appear really late in the film and only [UNK] [UNK] ends up being a real character yet he makes up for it with a [UNK] and truly [UNK] [UNK] br [UNK] [UNK] is the one with most work to do in this film and she does an [UNK] job having to [UNK] up the films [UNK] and turns with a show of believable [UNK] another [UNK] [UNK] is [UNK] [UNK] who plays [UNK] the [UNK] father of the husband [UNK] [UNK] [UNK] [UNK] every scene hes in with a scary but [UNK] [UNK] br the movie is not without its [UNK] of [UNK] violence is [UNK] but truly [UNK] in the [UNK] [UNK] by most of the female characters with [UNK] getting [UNK] [UNK] on a number of [UNK] at times this violence is clearly [UNK] but [UNK] it becomes [UNK] as every dramatic sequence is usually [UNK] by such comic and [UNK] turns that the overall effect is nothing but [UNK] br i have seen a [UNK] of [UNK] [UNK] and the [UNK] of [UNK] and [UNK] plot [UNK] are certainly their [UNK] but [UNK] [UNK] the [UNK] by [UNK] an even [UNK] [UNK] without [UNK] ridiculous it is a film that [UNK] the [UNK] of a [UNK] [UNK] where the audience of the [UNK] and [UNK] is [UNK] [UNK] it is [UNK] [UNK] cinema and the director [UNK] [UNK] must have had a dream of a good time by [UNK] in every [UNK] in the book perhaps the [UNK] message of violence [UNK] violence and the [UNK] [UNK] of [UNK] love were not the [UNK] on my mind but i came out of watching [UNK] [UNK] making movies can be the most fun in the world                                                                                                                                                                                                                                                                                                                                                                                                                                                                                   \n",
            "\n",
            "Original:  b'This movie explores the difficulties that strain hopes, dreams, love and friendship, and incorporates humour beautifully. Along with a stunning cast and brilliant filming, the sound track enhances and amplifies the atmosphere and mood of this work of art. All actors and actresses give an extremely good performance, surpassing expectation in every way. Parminder Nagra is brought on to the big screen for the first time in this film, and she is exceptional, capturing the vividness and vitality that this movie is all about. Keira Knightly also works well with her co-stars, and this is her best work so far.<br /><br />All in all, this is brilliant film, and one that everyone should make the effort to see at least once.'\n",
            "Round-trip:  this movie [UNK] the [UNK] that [UNK] [UNK] [UNK] love and [UNK] and [UNK] [UNK] [UNK] along with a [UNK] cast and brilliant [UNK] the sound [UNK] [UNK] and [UNK] the atmosphere and [UNK] of this work of art all actors and [UNK] give an extremely good performance [UNK] [UNK] in every way [UNK] [UNK] is brought on to the big screen for the first time in this film and she is [UNK] [UNK] the [UNK] and [UNK] that this movie is all about [UNK] [UNK] also works well with her [UNK] and this is her best work so [UNK] br all in all this is brilliant film and one that everyone should make the effort to see at least once                                                                                                                                                                                                                                                                                                                                                                                                                                                                                                                                                                                                                                                                                                                                                                                                                                                                       \n",
            "\n"
          ]
        }
      ]
    },
    {
      "cell_type": "markdown",
      "source": [
        "Terdapat beberapa token yang tidak diketahui dikarenankan kurangnya kosakata"
      ],
      "metadata": {
        "id": "dktrX0rGLZxH"
      }
    },
    {
      "cell_type": "code",
      "source": [
        "#@title Pembuatan model\n",
        "model = tf.keras.Sequential([\n",
        "    encoder,\n",
        "    tf.keras.layers.Embedding(\n",
        "        input_dim=len(encoder.get_vocabulary()),\n",
        "        output_dim=64,\n",
        "        # Use masking to handle the variable sequence lengths\n",
        "        mask_zero=True),\n",
        "    tf.keras.layers.Bidirectional(tf.keras.layers.LSTM(64)),\n",
        "    tf.keras.layers.Dense(64, activation='relu'),\n",
        "    tf.keras.layers.Dense(1)\n",
        "])\n",
        "model.summary()"
      ],
      "metadata": {
        "colab": {
          "base_uri": "https://localhost:8080/"
        },
        "id": "kOS-CNkTLwur",
        "outputId": "4134fe3f-90e0-4e7c-96bb-44308fc40d31"
      },
      "execution_count": null,
      "outputs": [
        {
          "output_type": "stream",
          "name": "stdout",
          "text": [
            "Model: \"sequential\"\n",
            "_________________________________________________________________\n",
            " Layer (type)                Output Shape              Param #   \n",
            "=================================================================\n",
            " text_vectorization (TextVe  (None, None)              0         \n",
            " ctorization)                                                    \n",
            "                                                                 \n",
            " embedding (Embedding)       (None, None, 64)          64000     \n",
            "                                                                 \n",
            " bidirectional (Bidirection  (None, 128)               66048     \n",
            " al)                                                             \n",
            "                                                                 \n",
            " dense (Dense)               (None, 64)                8256      \n",
            "                                                                 \n",
            " dense_1 (Dense)             (None, 1)                 65        \n",
            "                                                                 \n",
            "=================================================================\n",
            "Total params: 138369 (540.50 KB)\n",
            "Trainable params: 138369 (540.50 KB)\n",
            "Non-trainable params: 0 (0.00 Byte)\n",
            "_________________________________________________________________\n"
          ]
        }
      ]
    },
    {
      "cell_type": "code",
      "source": [
        "print([layer.supports_masking for layer in model.layers])"
      ],
      "metadata": {
        "colab": {
          "base_uri": "https://localhost:8080/"
        },
        "id": "pS5oiv6AL9FB",
        "outputId": "3fc65567-2f03-401f-b675-2ac406294559"
      },
      "execution_count": null,
      "outputs": [
        {
          "output_type": "stream",
          "name": "stdout",
          "text": [
            "[False, True, True, True, True]\n"
          ]
        }
      ]
    },
    {
      "cell_type": "code",
      "source": [
        "\n",
        "sample_text = ['The movie was cool. The animation and the graphics ',\n",
        "               'were out of this world. I would recommend this movie.']\n",
        "\n",
        "# Lakukan prediksi\n",
        "text_tensor = tf.convert_to_tensor(sample_text)\n",
        "predictions = model.predict(text_tensor)\n",
        "print(predictions[0])"
      ],
      "metadata": {
        "colab": {
          "base_uri": "https://localhost:8080/"
        },
        "id": "5WtCfjjajGgd",
        "outputId": "a0149fa4-fa8d-495e-bb04-8edc702d1125"
      },
      "execution_count": null,
      "outputs": [
        {
          "output_type": "stream",
          "name": "stdout",
          "text": [
            "1/1 [==============================] - 2s 2s/step\n",
            "[0.00350351]\n"
          ]
        }
      ]
    },
    {
      "cell_type": "code",
      "source": [
        "model.compile(loss=tf.keras.losses.BinaryCrossentropy(from_logits=True),\n",
        "              optimizer=tf.keras.optimizers.Adam(1e-4),\n",
        "              metrics=['accuracy'])"
      ],
      "metadata": {
        "id": "HQMdvYxJOF1R"
      },
      "execution_count": null,
      "outputs": []
    },
    {
      "cell_type": "code",
      "source": [
        "# Definisikan sample_text dan padding\n",
        "sample_text = ['The movie was cool. The animation and the graphics were out of this world. I would recommend this movie.']\n",
        "padding = [\"the \" * 2000]\n",
        "\n",
        "# Konversi sample_text dan padding ke tensor\n",
        "text_tensor = tf.convert_to_tensor(sample_text)\n",
        "padding_tensor = tf.convert_to_tensor(padding)\n",
        "\n",
        "# Lakukan prediksi untuk setiap input secara terpisah dan tampilkan hasilnya\n",
        "predictions_sample_text = model.predict(text_tensor)\n",
        "predictions_padding = model.predict(padding_tensor)\n",
        "\n",
        "print(\"Prediction for sample text:\", predictions_sample_text[0])\n",
        "print(\"Prediction for padded text:\", predictions_padding[0])"
      ],
      "metadata": {
        "colab": {
          "base_uri": "https://localhost:8080/"
        },
        "id": "lXcxnN6twkjZ",
        "outputId": "08b42284-3464-4070-97ae-084da43f0270"
      },
      "execution_count": null,
      "outputs": [
        {
          "output_type": "stream",
          "name": "stdout",
          "text": [
            "1/1 [==============================] - 0s 25ms/step\n",
            "1/1 [==============================] - 0s 100ms/step\n",
            "Prediction for sample text: [-0.0020387]\n",
            "Prediction for padded text: [-0.01757987]\n"
          ]
        }
      ]
    },
    {
      "cell_type": "code",
      "source": [
        "history = model.fit(train_dataset,\n",
        "                    epochs=10,\n",
        "                    validation_data=test_dataset,\n",
        "                    validation_steps=30)"
      ],
      "metadata": {
        "colab": {
          "base_uri": "https://localhost:8080/"
        },
        "id": "KBmaTgNfOH2G",
        "outputId": "8f39a589-4328-4d00-dbaf-216b9ccab537"
      },
      "execution_count": null,
      "outputs": [
        {
          "output_type": "stream",
          "name": "stdout",
          "text": [
            "Epoch 1/10\n",
            "391/391 [==============================] - 231s 575ms/step - loss: 0.6463 - accuracy: 0.5711 - val_loss: 0.5143 - val_accuracy: 0.7500\n",
            "Epoch 2/10\n",
            "391/391 [==============================] - 219s 561ms/step - loss: 0.4405 - accuracy: 0.7976 - val_loss: 0.4038 - val_accuracy: 0.8005\n",
            "Epoch 3/10\n",
            "391/391 [==============================] - 222s 567ms/step - loss: 0.3484 - accuracy: 0.8438 - val_loss: 0.3399 - val_accuracy: 0.8464\n",
            "Epoch 4/10\n",
            "391/391 [==============================] - 223s 569ms/step - loss: 0.3237 - accuracy: 0.8581 - val_loss: 0.3354 - val_accuracy: 0.8438\n",
            "Epoch 5/10\n",
            "391/391 [==============================] - 220s 563ms/step - loss: 0.3180 - accuracy: 0.8613 - val_loss: 0.3298 - val_accuracy: 0.8599\n",
            "Epoch 6/10\n",
            "391/391 [==============================] - 219s 560ms/step - loss: 0.3109 - accuracy: 0.8656 - val_loss: 0.3237 - val_accuracy: 0.8510\n",
            "Epoch 7/10\n",
            "391/391 [==============================] - 221s 564ms/step - loss: 0.3073 - accuracy: 0.8680 - val_loss: 0.3278 - val_accuracy: 0.8510\n",
            "Epoch 8/10\n",
            "391/391 [==============================] - 222s 567ms/step - loss: 0.3020 - accuracy: 0.8696 - val_loss: 0.3225 - val_accuracy: 0.8521\n",
            "Epoch 9/10\n",
            "391/391 [==============================] - 222s 567ms/step - loss: 0.3008 - accuracy: 0.8696 - val_loss: 0.3230 - val_accuracy: 0.8547\n",
            "Epoch 10/10\n",
            "391/391 [==============================] - 220s 562ms/step - loss: 0.2992 - accuracy: 0.8698 - val_loss: 0.3169 - val_accuracy: 0.8526\n"
          ]
        }
      ]
    },
    {
      "cell_type": "code",
      "source": [
        "test_loss, test_acc = model.evaluate(test_dataset)\n",
        "\n",
        "print('Test Loss:', test_loss)\n",
        "print('Test Accuracy:', test_acc)"
      ],
      "metadata": {
        "colab": {
          "base_uri": "https://localhost:8080/"
        },
        "id": "fOg2VvaeO4_7",
        "outputId": "3519eaf3-d180-4185-fe75-c8abb36ed86b"
      },
      "execution_count": null,
      "outputs": [
        {
          "output_type": "stream",
          "name": "stdout",
          "text": [
            "391/391 [==============================] - 65s 166ms/step - loss: 0.3149 - accuracy: 0.8556\n",
            "Test Loss: 0.3148632347583771\n",
            "Test Accuracy: 0.8556399941444397\n"
          ]
        }
      ]
    },
    {
      "cell_type": "code",
      "source": [
        "plt.figure(figsize=(16, 8))\n",
        "plt.subplot(1, 2, 1)\n",
        "plot_graphs(history, 'accuracy')\n",
        "plt.ylim(None, 1)\n",
        "plt.subplot(1, 2, 2)\n",
        "plot_graphs(history, 'loss')\n",
        "plt.ylim(0, None)"
      ],
      "metadata": {
        "colab": {
          "base_uri": "https://localhost:8080/",
          "height": 448
        },
        "id": "zs6lT4pQO6xk",
        "outputId": "c561ce58-dda5-4a2a-d343-9f11f34a4933"
      },
      "execution_count": null,
      "outputs": [
        {
          "output_type": "execute_result",
          "data": {
            "text/plain": [
              "(0.0, 0.663609865307808)"
            ]
          },
          "metadata": {},
          "execution_count": 24
        },
        {
          "output_type": "display_data",
          "data": {
            "text/plain": [
              "<Figure size 1600x800 with 2 Axes>"
            ],
            "image/png": "[encoded data removed]"
          },
          "metadata": {}
        }
      ]
    },
    {
      "cell_type": "code",
      "source": [
        "sample_text = ('The movie was cool. The animation and the graphics '\n",
        "              'were out of this world. I would recommend this movie.')\n",
        "predictions = model.predict(np.array([sample_text]))"
      ],
      "metadata": {
        "colab": {
          "base_uri": "https://localhost:8080/"
        },
        "id": "eDDuXZKoMCP0",
        "outputId": "3271c5bd-5a4f-42a8-e83a-77272ebb1930"
      },
      "execution_count": null,
      "outputs": [
        {
          "output_type": "stream",
          "name": "stdout",
          "text": [
            "1/1 [==============================] - 0s 26ms/step\n"
          ]
        }
      ]
    },
    {
      "cell_type": "markdown",
      "source": [
        "## **Stack two or more LSTM layers**"
      ],
      "metadata": {
        "id": "GLGwro5WPI09"
      }
    },
    {
      "cell_type": "code",
      "source": [
        "\n",
        "model = tf.keras.Sequential([\n",
        "    encoder,\n",
        "    tf.keras.layers.Embedding(len(encoder.get_vocabulary()), 64, mask_zero=True),\n",
        "    tf.keras.layers.Bidirectional(tf.keras.layers.LSTM(64,  return_sequences=True)),\n",
        "    tf.keras.layers.Bidirectional(tf.keras.layers.LSTM(32)),\n",
        "    tf.keras.layers.Dense(64, activation='relu'),\n",
        "    tf.keras.layers.Dropout(0.5),\n",
        "    tf.keras.layers.Dense(1)\n",
        "])"
      ],
      "metadata": {
        "id": "iIWz3QnTPHjH"
      },
      "execution_count": null,
      "outputs": []
    },
    {
      "cell_type": "code",
      "source": [
        "model.compile(\n",
        "    loss=tf.keras.losses.BinaryCrossentropy(from_logits=True),\n",
        "    optimizer=tf.keras.optimizers.Adam(1e-4),\n",
        "    metrics=['accuracy'])"
      ],
      "metadata": {
        "id": "0WVhfi9UPOlm"
      },
      "execution_count": null,
      "outputs": []
    },
    {
      "cell_type": "code",
      "source": [
        "history = model.fit(train_dataset,\n",
        "                    epochs=10,\n",
        "                    validation_data=test_dataset,\n",
        "                    validation_steps=30)"
      ],
      "metadata": {
        "id": "-6z3qs1YPbEs",
        "colab": {
          "base_uri": "https://localhost:8080/"
        },
        "outputId": "982539e9-6506-4f08-b90d-fd4a77b2c70c"
      },
      "execution_count": null,
      "outputs": [
        {
          "output_type": "stream",
          "name": "stdout",
          "text": [
            "Epoch 1/10\n",
            "391/391 [==============================] - 445s 1s/step - loss: 0.6372 - accuracy: 0.5703 - val_loss: 0.4625 - val_accuracy: 0.7661\n",
            "Epoch 2/10\n",
            "391/391 [==============================] - 432s 1s/step - loss: 0.3881 - accuracy: 0.8283 - val_loss: 0.3509 - val_accuracy: 0.8354\n",
            "Epoch 3/10\n",
            "391/391 [==============================] - 422s 1s/step - loss: 0.3380 - accuracy: 0.8538 - val_loss: 0.3378 - val_accuracy: 0.8573\n",
            "Epoch 4/10\n",
            "391/391 [==============================] - 422s 1s/step - loss: 0.3210 - accuracy: 0.8635 - val_loss: 0.3233 - val_accuracy: 0.8583\n",
            "Epoch 5/10\n",
            "391/391 [==============================] - 423s 1s/step - loss: 0.3124 - accuracy: 0.8659 - val_loss: 0.3237 - val_accuracy: 0.8557\n",
            "Epoch 6/10\n",
            "391/391 [==============================] - 424s 1s/step - loss: 0.3047 - accuracy: 0.8690 - val_loss: 0.3274 - val_accuracy: 0.8391\n",
            "Epoch 7/10\n",
            "391/391 [==============================] - 425s 1s/step - loss: 0.3039 - accuracy: 0.8710 - val_loss: 0.3220 - val_accuracy: 0.8557\n",
            "Epoch 8/10\n",
            "391/391 [==============================] - 425s 1s/step - loss: 0.2999 - accuracy: 0.8702 - val_loss: 0.3417 - val_accuracy: 0.8589\n",
            "Epoch 9/10\n",
            "391/391 [==============================] - 424s 1s/step - loss: 0.3004 - accuracy: 0.8707 - val_loss: 0.3298 - val_accuracy: 0.8651\n",
            "Epoch 10/10\n",
            "391/391 [==============================] - 424s 1s/step - loss: 0.2939 - accuracy: 0.8733 - val_loss: 0.3188 - val_accuracy: 0.8500\n"
          ]
        }
      ]
    },
    {
      "cell_type": "code",
      "source": [
        "test_loss, test_acc = model.evaluate(test_dataset)\n",
        "\n",
        "print('Test Loss:', test_loss)\n",
        "print('Test Accuracy:', test_acc)"
      ],
      "metadata": {
        "id": "UbRHxL5pPitc",
        "colab": {
          "base_uri": "https://localhost:8080/"
        },
        "outputId": "86ad0cf2-3aaf-4ed0-abab-9159870043b8"
      },
      "execution_count": null,
      "outputs": [
        {
          "output_type": "stream",
          "name": "stdout",
          "text": [
            "391/391 [==============================] - 115s 295ms/step - loss: 0.3158 - accuracy: 0.8542\n",
            "Test Loss: 0.31582629680633545\n",
            "Test Accuracy: 0.854200005531311\n"
          ]
        }
      ]
    },
    {
      "cell_type": "code",
      "source": [
        "sample_text = ('The movie was cool. The animation and the graphics '\n",
        "               'were out of this world. I would recommend this movie.')\n",
        "predictions = model.predict(np.array([sample_text]))\n",
        "print(predictions[0])"
      ],
      "metadata": {
        "id": "WVa5pvHXPj-J",
        "colab": {
          "base_uri": "https://localhost:8080/"
        },
        "outputId": "45a8aa09-333e-4509-b85f-bbf6e6fce5f8"
      },
      "execution_count": null,
      "outputs": [
        {
          "output_type": "stream",
          "name": "stdout",
          "text": [
            "1/1 [==============================] - 5s 5s/step\n",
            "[0.3959979]\n"
          ]
        }
      ]
    },
    {
      "cell_type": "code",
      "source": [
        "plt.figure(figsize=(16, 6))\n",
        "plt.subplot(1, 2, 1)\n",
        "plot_graphs(history, 'accuracy')\n",
        "plt.subplot(1, 2, 2)\n",
        "plot_graphs(history, 'loss')"
      ],
      "metadata": {
        "id": "1mcL9MVRPqgJ",
        "colab": {
          "base_uri": "https://localhost:8080/",
          "height": 334
        },
        "outputId": "d567698a-d914-4b71-ad02-3014389409b8"
      },
      "execution_count": null,
      "outputs": [
        {
          "output_type": "display_data",
          "data": {
            "text/plain": [
              "<Figure size 1600x600 with 2 Axes>"
            ],
            "image/png": "[encoded data removed]"
          },
          "metadata": {}
        }
      ]
    },
    {
      "cell_type": "markdown",
      "source": [
        "# Praktikum 2\n"
      ],
      "metadata": {
        "id": "vkXFmeBxwn3I"
      }
    },
    {
      "cell_type": "code",
      "source": [
        "import tensorflow as tf\n",
        "import numpy as np\n",
        "import os\n",
        "import time"
      ],
      "metadata": {
        "id": "DmCeTuvPw1Es"
      },
      "execution_count": null,
      "outputs": []
    },
    {
      "cell_type": "code",
      "source": [
        "#@title Load Data\n",
        "path_to_file =tf.keras.utils.get_file('shakespeare.txt', 'https://storage.googleapis.com/download.tensorflow.org/data/shakespeare.txt')\n",
        "# Read, then decode for py2 compat.\n",
        "text = open(path_to_file, 'rb').read().decode(encoding='utf-8')\n",
        "# length of text is the number of characters in it\n",
        "print(f'Length of text: {len(text)} characters')"
      ],
      "metadata": {
        "colab": {
          "base_uri": "https://localhost:8080/"
        },
        "id": "wAafOmvmw2v-",
        "outputId": "115663f1-da04-45d2-e144-f628c41a9d00"
      },
      "execution_count": null,
      "outputs": [
        {
          "output_type": "stream",
          "name": "stdout",
          "text": [
            "Downloading data from https://storage.googleapis.com/download.tensorflow.org/data/shakespeare.txt\n",
            "1115394/1115394 [==============================] - 0s 0us/step\n",
            "Length of text: 1115394 characters\n"
          ]
        }
      ]
    },
    {
      "cell_type": "code",
      "source": [
        "# Take a look at the first 250 characters in text\n",
        "print(text[:250])"
      ],
      "metadata": {
        "colab": {
          "base_uri": "https://localhost:8080/"
        },
        "id": "dKK5qXsWw614",
        "outputId": "d3ce349e-4c8d-420e-c53d-ca0a1e13f135"
      },
      "execution_count": null,
      "outputs": [
        {
          "output_type": "stream",
          "name": "stdout",
          "text": [
            "First Citizen:\n",
            "Before we proceed any further, hear me speak.\n",
            "\n",
            "All:\n",
            "Speak, speak.\n",
            "\n",
            "First Citizen:\n",
            "You are all resolved rather to die than to famish?\n",
            "\n",
            "All:\n",
            "Resolved. resolved.\n",
            "\n",
            "First Citizen:\n",
            "First, you know Caius Marcius is chief enemy to the people.\n",
            "\n"
          ]
        }
      ]
    },
    {
      "cell_type": "code",
      "source": [
        "# The unique characters in the file\n",
        "vocab = sorted(set(text))\n",
        "print(f'{len(vocab)} unique characters')"
      ],
      "metadata": {
        "colab": {
          "base_uri": "https://localhost:8080/"
        },
        "id": "_P2QfhwNw79H",
        "outputId": "0456c1fa-6d24-47dc-e3ea-bc9fbd144b8e"
      },
      "execution_count": null,
      "outputs": [
        {
          "output_type": "stream",
          "name": "stdout",
          "text": [
            "65 unique characters\n"
          ]
        }
      ]
    },
    {
      "cell_type": "markdown",
      "source": [
        "#### Olah text"
      ],
      "metadata": {
        "id": "tFbcTCmrw9jz"
      }
    },
    {
      "cell_type": "code",
      "source": [
        "example_texts = ['abcdefg', 'xyz']\n",
        "chars = tf.strings.unicode_split(example_texts, input_encoding='UTF-8')\n",
        "chars"
      ],
      "metadata": {
        "colab": {
          "base_uri": "https://localhost:8080/"
        },
        "id": "Vm1AqiMJw9JV",
        "outputId": "d4837d4c-2af9-4b3c-bdc3-f3d04729c345"
      },
      "execution_count": null,
      "outputs": [
        {
          "output_type": "execute_result",
          "data": {
            "text/plain": [
              "<tf.RaggedTensor [[b'a', b'b', b'c', b'd', b'e', b'f', b'g'], [b'x', b'y', b'z']]>"
            ]
          },
          "metadata": {},
          "execution_count": 9
        }
      ]
    },
    {
      "cell_type": "code",
      "source": [
        "ids_from_chars = tf.keras.layers.StringLookup(\n",
        "vocabulary=list(vocab), mask_token=None)"
      ],
      "metadata": {
        "id": "aBX7QOaHxVYh"
      },
      "execution_count": null,
      "outputs": []
    },
    {
      "cell_type": "code",
      "source": [
        "ids = ids_from_chars(chars)\n",
        "ids"
      ],
      "metadata": {
        "colab": {
          "base_uri": "https://localhost:8080/"
        },
        "id": "zpU2vf5xxewg",
        "outputId": "54d8ea4d-75b0-4c80-b19b-be4cf897f4d6"
      },
      "execution_count": null,
      "outputs": [
        {
          "output_type": "execute_result",
          "data": {
            "text/plain": [
              "<tf.RaggedTensor [[40, 41, 42, 43, 44, 45, 46], [63, 64, 65]]>"
            ]
          },
          "metadata": {},
          "execution_count": 11
        }
      ]
    },
    {
      "cell_type": "code",
      "source": [
        "chars_from_ids = tf.keras.layers.StringLookup(\n",
        "    vocabulary=ids_from_chars.get_vocabulary(), invert=True, mask_token=None)"
      ],
      "metadata": {
        "id": "A9BmIRbzxg0h"
      },
      "execution_count": null,
      "outputs": []
    },
    {
      "cell_type": "code",
      "source": [
        "chars = chars_from_ids(ids)\n",
        "chars"
      ],
      "metadata": {
        "colab": {
          "base_uri": "https://localhost:8080/"
        },
        "id": "5nRgE24nximd",
        "outputId": "d03613fd-443e-466c-c8ff-7d90d0143b94"
      },
      "execution_count": null,
      "outputs": [
        {
          "output_type": "execute_result",
          "data": {
            "text/plain": [
              "<tf.RaggedTensor [[b'a', b'b', b'c', b'd', b'e', b'f', b'g'], [b'x', b'y', b'z']]>"
            ]
          },
          "metadata": {},
          "execution_count": 13
        }
      ]
    },
    {
      "cell_type": "code",
      "source": [
        "tf.strings.reduce_join(chars, axis=-1).numpy()"
      ],
      "metadata": {
        "colab": {
          "base_uri": "https://localhost:8080/"
        },
        "id": "yvk-WH2R1R_J",
        "outputId": "5384fec8-dd6d-4e9b-fef7-babf34a50cd4"
      },
      "execution_count": null,
      "outputs": [
        {
          "output_type": "execute_result",
          "data": {
            "text/plain": [
              "array([b'abcdefg', b'xyz'], dtype=object)"
            ]
          },
          "metadata": {},
          "execution_count": 14
        }
      ]
    },
    {
      "cell_type": "code",
      "source": [
        "def text_from_ids(ids):\n",
        "    return tf.strings.reduce_join(chars_from_ids(ids), axis=-1)"
      ],
      "metadata": {
        "id": "Qtifg4tM1Ted"
      },
      "execution_count": null,
      "outputs": []
    },
    {
      "cell_type": "code",
      "source": [
        "#@title Prediksi membuat set dan training\n",
        "\n",
        "all_ids = ids_from_chars(tf.strings.unicode_split(text, 'UTF-8'))\n",
        "all_ids"
      ],
      "metadata": {
        "colab": {
          "base_uri": "https://localhost:8080/"
        },
        "id": "mPRtx2SI1XeQ",
        "outputId": "4572fb1f-c6e3-470c-c096-dc00a994777c"
      },
      "execution_count": null,
      "outputs": [
        {
          "output_type": "execute_result",
          "data": {
            "text/plain": [
              "<tf.Tensor: shape=(1115394,), dtype=int64, numpy=array([19, 48, 57, ..., 46,  9,  1])>"
            ]
          },
          "metadata": {},
          "execution_count": 16
        }
      ]
    },
    {
      "cell_type": "code",
      "source": [
        "ids_dataset = tf.data.Dataset.from_tensor_slices(all_ids)"
      ],
      "metadata": {
        "id": "ZlWMpxt41gNV"
      },
      "execution_count": null,
      "outputs": []
    },
    {
      "cell_type": "code",
      "source": [
        "\n",
        "for ids in ids_dataset.take(10):\n",
        "    print(chars_from_ids(ids).numpy().decode('utf-8'))"
      ],
      "metadata": {
        "colab": {
          "base_uri": "https://localhost:8080/"
        },
        "id": "sFbkzh6Y1igm",
        "outputId": "e8fd9dd8-c5bf-4275-81a9-acd9357cca73"
      },
      "execution_count": null,
      "outputs": [
        {
          "output_type": "stream",
          "name": "stdout",
          "text": [
            "F\n",
            "i\n",
            "r\n",
            "s\n",
            "t\n",
            " \n",
            "C\n",
            "i\n",
            "t\n",
            "i\n"
          ]
        }
      ]
    },
    {
      "cell_type": "code",
      "source": [
        "seq_length = 100"
      ],
      "metadata": {
        "id": "SoL8D9VY1jKM"
      },
      "execution_count": null,
      "outputs": []
    },
    {
      "cell_type": "code",
      "source": [
        "sequences = ids_dataset.batch(seq_length+1, drop_remainder=True)\n",
        "\n",
        "for seq in sequences.take(1):\n",
        "  print(chars_from_ids(seq))"
      ],
      "metadata": {
        "colab": {
          "base_uri": "https://localhost:8080/"
        },
        "id": "SNzZaBJc1mvI",
        "outputId": "9b22b494-dcd6-4ab8-922e-06d453bb9619"
      },
      "execution_count": null,
      "outputs": [
        {
          "output_type": "stream",
          "name": "stdout",
          "text": [
            "tf.Tensor(\n",
            "[b'F' b'i' b'r' b's' b't' b' ' b'C' b'i' b't' b'i' b'z' b'e' b'n' b':'\n",
            " b'\\n' b'B' b'e' b'f' b'o' b'r' b'e' b' ' b'w' b'e' b' ' b'p' b'r' b'o'\n",
            " b'c' b'e' b'e' b'd' b' ' b'a' b'n' b'y' b' ' b'f' b'u' b'r' b't' b'h'\n",
            " b'e' b'r' b',' b' ' b'h' b'e' b'a' b'r' b' ' b'm' b'e' b' ' b's' b'p'\n",
            " b'e' b'a' b'k' b'.' b'\\n' b'\\n' b'A' b'l' b'l' b':' b'\\n' b'S' b'p' b'e'\n",
            " b'a' b'k' b',' b' ' b's' b'p' b'e' b'a' b'k' b'.' b'\\n' b'\\n' b'F' b'i'\n",
            " b'r' b's' b't' b' ' b'C' b'i' b't' b'i' b'z' b'e' b'n' b':' b'\\n' b'Y'\n",
            " b'o' b'u' b' '], shape=(101,), dtype=string)\n"
          ]
        }
      ]
    },
    {
      "cell_type": "code",
      "source": [
        "def split_input_target(sequence):\n",
        "    input_text = sequence[:-1]\n",
        "    target_text = sequence[1:]\n",
        "    return input_text, target_text"
      ],
      "metadata": {
        "id": "IPTRLCcc1ruY"
      },
      "execution_count": null,
      "outputs": []
    },
    {
      "cell_type": "code",
      "source": [
        "split_input_target(list(\"Tensorflow\"))"
      ],
      "metadata": {
        "colab": {
          "base_uri": "https://localhost:8080/"
        },
        "id": "nucwjSQH1taP",
        "outputId": "ebfac96c-679b-48f1-a2a0-6f13303622c3"
      },
      "execution_count": null,
      "outputs": [
        {
          "output_type": "execute_result",
          "data": {
            "text/plain": [
              "(['T', 'e', 'n', 's', 'o', 'r', 'f', 'l', 'o'],\n",
              " ['e', 'n', 's', 'o', 'r', 'f', 'l', 'o', 'w'])"
            ]
          },
          "metadata": {},
          "execution_count": 22
        }
      ]
    },
    {
      "cell_type": "code",
      "source": [
        "dataset = sequences.map(split_input_target)"
      ],
      "metadata": {
        "id": "BDb7eVjw1u4A"
      },
      "execution_count": null,
      "outputs": []
    },
    {
      "cell_type": "code",
      "source": [
        "\n",
        "for input_example, target_example in dataset.take(1):\n",
        "    print(\"Input :\", text_from_ids(input_example).numpy())\n",
        "    print(\"Target:\", text_from_ids(target_example).numpy())"
      ],
      "metadata": {
        "colab": {
          "base_uri": "https://localhost:8080/"
        },
        "id": "_z3ZRpMF1wR4",
        "outputId": "2d7fe450-f0d7-4c6d-860d-b10e4a047f85"
      },
      "execution_count": null,
      "outputs": [
        {
          "output_type": "stream",
          "name": "stdout",
          "text": [
            "Input : b'First Citizen:\\nBefore we proceed any further, hear me speak.\\n\\nAll:\\nSpeak, speak.\\n\\nFirst Citizen:\\nYou'\n",
            "Target: b'irst Citizen:\\nBefore we proceed any further, hear me speak.\\n\\nAll:\\nSpeak, speak.\\n\\nFirst Citizen:\\nYou '\n"
          ]
        }
      ]
    },
    {
      "cell_type": "code",
      "source": [
        "#@title membuat batch training\n",
        "# Batch size\n",
        "BATCH_SIZE = 64\n",
        "\n",
        "# Buffer size to shuffle the dataset\n",
        "# (TF data is designed to work with possibly infinite sequences,\n",
        "# so it doesn't attempt to shuffle the entire sequence in memory. Instead,\n",
        "# it maintains a buffer in which it shuffles elements).\n",
        "BUFFER_SIZE = 10000\n",
        "\n",
        "dataset = (\n",
        "    dataset\n",
        "    .shuffle(BUFFER_SIZE)\n",
        "    .batch(BATCH_SIZE, drop_remainder=True)\n",
        "    .prefetch(tf.data.experimental.AUTOTUNE))\n",
        "\n",
        "dataset"
      ],
      "metadata": {
        "colab": {
          "base_uri": "https://localhost:8080/"
        },
        "id": "QY_ddt2U1xTf",
        "outputId": "740c21e2-1d80-4886-f241-f7d15e34cd41"
      },
      "execution_count": null,
      "outputs": [
        {
          "output_type": "execute_result",
          "data": {
            "text/plain": [
              "<_PrefetchDataset element_spec=(TensorSpec(shape=(64, 100), dtype=tf.int64, name=None), TensorSpec(shape=(64, 100), dtype=tf.int64, name=None))>"
            ]
          },
          "metadata": {},
          "execution_count": 25
        }
      ]
    },
    {
      "cell_type": "code",
      "source": [
        "# Length of the vocabulary in StringLookup Layer\n",
        "vocab_size = len(ids_from_chars.get_vocabulary())\n",
        "\n",
        "# The embedding dimension\n",
        "embedding_dim = 256\n",
        "\n",
        "# Number of RNN units\n",
        "rnn_units = 1024"
      ],
      "metadata": {
        "id": "dvMe_j1U170o"
      },
      "execution_count": null,
      "outputs": []
    },
    {
      "cell_type": "code",
      "source": [
        "class MyModel(tf.keras.Model):\n",
        "  def __init__(self, vocab_size, embedding_dim, rnn_units):\n",
        "    super().__init__(self)\n",
        "    self.embedding = tf.keras.layers.Embedding(vocab_size, embedding_dim)\n",
        "    self.gru = tf.keras.layers.GRU(rnn_units,\n",
        "                                   return_sequences=True,\n",
        "                                   return_state=True)\n",
        "    self.dense = tf.keras.layers.Dense(vocab_size)\n",
        "\n",
        "  def call(self, inputs, states=None, return_state=False, training=False):\n",
        "    x = inputs\n",
        "    x = self.embedding(x, training=training)\n",
        "    if states is None:\n",
        "      states = self.gru.get_initial_state(x)\n",
        "    x, states = self.gru(x, initial_state=states, training=training)\n",
        "    x = self.dense(x, training=training)\n",
        "\n",
        "    if return_state:\n",
        "      return x, states\n",
        "    else:\n",
        "      return x"
      ],
      "metadata": {
        "id": "qJMqXaSj2DN4"
      },
      "execution_count": null,
      "outputs": []
    },
    {
      "cell_type": "code",
      "source": [
        "\n",
        "model = MyModel(\n",
        "    vocab_size=vocab_size,\n",
        "    embedding_dim=embedding_dim,\n",
        "    rnn_units=rnn_units)"
      ],
      "metadata": {
        "id": "JSdxcQ_h2Dyw"
      },
      "execution_count": null,
      "outputs": []
    },
    {
      "cell_type": "code",
      "source": [
        "#@title uji model\n",
        "for input_example_batch, target_example_batch in dataset.take(1):\n",
        "    example_batch_predictions = model(input_example_batch)\n",
        "    print(example_batch_predictions.shape, \"# (batch_size, sequence_length, vocab_size)\")"
      ],
      "metadata": {
        "colab": {
          "base_uri": "https://localhost:8080/"
        },
        "id": "8tBPpKmO2IAL",
        "outputId": "8a9a0919-9d42-417b-b276-b275f1055e6a"
      },
      "execution_count": null,
      "outputs": [
        {
          "output_type": "stream",
          "name": "stdout",
          "text": [
            "(64, 100, 66) # (batch_size, sequence_length, vocab_size)\n"
          ]
        }
      ]
    },
    {
      "cell_type": "code",
      "source": [
        "model.summary()"
      ],
      "metadata": {
        "colab": {
          "base_uri": "https://localhost:8080/"
        },
        "id": "0G4RvVon2Qg8",
        "outputId": "c326826b-c209-40e4-a326-6ab6208697cb"
      },
      "execution_count": null,
      "outputs": [
        {
          "output_type": "stream",
          "name": "stdout",
          "text": [
            "Model: \"my_model\"\n",
            "_________________________________________________________________\n",
            " Layer (type)                Output Shape              Param #   \n",
            "=================================================================\n",
            " embedding (Embedding)       multiple                  16896     \n",
            "                                                                 \n",
            " gru (GRU)                   multiple                  3938304   \n",
            "                                                                 \n",
            " dense (Dense)               multiple                  67650     \n",
            "                                                                 \n",
            "=================================================================\n",
            "Total params: 4022850 (15.35 MB)\n",
            "Trainable params: 4022850 (15.35 MB)\n",
            "Non-trainable params: 0 (0.00 Byte)\n",
            "_________________________________________________________________\n"
          ]
        }
      ]
    },
    {
      "cell_type": "code",
      "source": [
        "\n",
        "sampled_indices = tf.random.categorical(example_batch_predictions[0], num_samples=1)\n",
        "sampled_indices = tf.squeeze(sampled_indices, axis=-1).numpy()"
      ],
      "metadata": {
        "id": "XjSlHau42R6Y"
      },
      "execution_count": null,
      "outputs": []
    },
    {
      "cell_type": "code",
      "source": [
        "sampled_indices"
      ],
      "metadata": {
        "colab": {
          "base_uri": "https://localhost:8080/"
        },
        "id": "2H_HahAG2TA1",
        "outputId": "45f6bf39-9ea6-4d4c-edc3-dc38825fccc5"
      },
      "execution_count": null,
      "outputs": [
        {
          "output_type": "execute_result",
          "data": {
            "text/plain": [
              "array([14, 17, 58, 48, 64, 16, 11, 14, 48, 13, 14, 52, 46, 46, 34, 65, 53,\n",
              "       60, 14, 47, 48, 21,  7, 50,  0, 62, 62, 37,  4, 13,  1, 53, 25, 51,\n",
              "       26, 48, 22, 20,  4, 63,  4, 62, 18, 53, 31, 36, 37,  0, 14, 22, 35,\n",
              "        2,  7, 38, 59, 63, 40, 25, 65, 48, 57, 33, 45, 49, 25, 45,  2, 23,\n",
              "        5, 20, 10,  0, 56, 42, 34, 60, 21, 37, 30, 31, 12, 31, 30, 18, 19,\n",
              "       43,  6, 56, 43, 58, 12, 14, 46,  1, 12, 57, 46, 49,  4, 11])"
            ]
          },
          "metadata": {},
          "execution_count": 32
        }
      ]
    },
    {
      "cell_type": "code",
      "source": [
        "\n",
        "print(\"Input:\\n\", text_from_ids(input_example_batch[0]).numpy())\n",
        "print()\n",
        "print(\"Next Char Predictions:\\n\", text_from_ids(sampled_indices).numpy())"
      ],
      "metadata": {
        "colab": {
          "base_uri": "https://localhost:8080/"
        },
        "id": "R4MIomG-2Ub-",
        "outputId": "adad7afe-cf90-48e2-eb17-09fdd7d090f1"
      },
      "execution_count": null,
      "outputs": [
        {
          "output_type": "stream",
          "name": "stdout",
          "text": [
            "Input:\n",
            " b'ust not. I wish\\nyou much mirth.\\n\\nVALERIA:\\nWell, then, farewell.\\n\\nMARCIUS:\\nYonder comes news. A wager'\n",
            "\n",
            "Next Char Predictions:\n",
            " b\"ADsiyC:Ai?AmggUznuAhiH,k[UNK]wwX$?\\nnLlMiIG$x$wEnRWX[UNK]AIV ,YtxaLzirTfjLf J&G3[UNK]qcUuHXQR;RQEFd'qds;Ag\\n;rgj$:\"\n"
          ]
        }
      ]
    },
    {
      "cell_type": "code",
      "source": [
        "#@title train model\n",
        "loss = tf.losses.SparseCategoricalCrossentropy(from_logits=True)"
      ],
      "metadata": {
        "id": "vag9MKW92WQf"
      },
      "execution_count": null,
      "outputs": []
    },
    {
      "cell_type": "code",
      "source": [
        "\n",
        "example_batch_mean_loss = loss(target_example_batch, example_batch_predictions)\n",
        "print(\"Prediction shape: \", example_batch_predictions.shape, \" # (batch_size, sequence_length, vocab_size)\")\n",
        "print(\"Mean loss:        \", example_batch_mean_loss)"
      ],
      "metadata": {
        "colab": {
          "base_uri": "https://localhost:8080/"
        },
        "id": "qMBCd5qu2aJ-",
        "outputId": "d63d50ee-88d4-4c08-c422-6fe1b65e5497"
      },
      "execution_count": null,
      "outputs": [
        {
          "output_type": "stream",
          "name": "stdout",
          "text": [
            "Prediction shape:  (64, 100, 66)  # (batch_size, sequence_length, vocab_size)\n",
            "Mean loss:         tf.Tensor(4.189046, shape=(), dtype=float32)\n"
          ]
        }
      ]
    },
    {
      "cell_type": "code",
      "source": [
        "tf.exp(example_batch_mean_loss).numpy()"
      ],
      "metadata": {
        "colab": {
          "base_uri": "https://localhost:8080/"
        },
        "id": "VQSI6yvJ2dlw",
        "outputId": "5bf1eda1-c3df-4cc4-b989-61861c892748"
      },
      "execution_count": null,
      "outputs": [
        {
          "output_type": "execute_result",
          "data": {
            "text/plain": [
              "65.95983"
            ]
          },
          "metadata": {},
          "execution_count": 36
        }
      ]
    },
    {
      "cell_type": "code",
      "source": [
        "model.compile(optimizer='adam', loss=loss)"
      ],
      "metadata": {
        "id": "nM_yDH_h2e4n"
      },
      "execution_count": null,
      "outputs": []
    },
    {
      "cell_type": "code",
      "source": [
        "#@title Konfigurasi checkpoint\n",
        "# Directory where the checkpoints will be saved\n",
        "checkpoint_dir = './training_checkpoints'\n",
        "# Name of the checkpoint files\n",
        "checkpoint_prefix = os.path.join(checkpoint_dir, \"ckpt_{epoch}\")\n",
        "\n",
        "checkpoint_callback = tf.keras.callbacks.ModelCheckpoint(\n",
        "    filepath=checkpoint_prefix,\n",
        "    save_weights_only=True)"
      ],
      "metadata": {
        "id": "ce4lm-KV2gDU"
      },
      "execution_count": null,
      "outputs": []
    },
    {
      "cell_type": "code",
      "source": [
        "EPOCHS = 20"
      ],
      "metadata": {
        "id": "bdaMuvjB2j9Y"
      },
      "execution_count": null,
      "outputs": []
    },
    {
      "cell_type": "code",
      "source": [
        "history = model.fit(dataset, epochs=EPOCHS, callbacks=[checkpoint_callback])"
      ],
      "metadata": {
        "colab": {
          "base_uri": "https://localhost:8080/"
        },
        "id": "ju0GXSiU2nDG",
        "outputId": "bd071696-10ab-4078-f91a-3ba8e3bef180"
      },
      "execution_count": null,
      "outputs": [
        {
          "output_type": "stream",
          "name": "stdout",
          "text": [
            "Epoch 1/20\n",
            "172/172 [==============================] - 129s 733ms/step - loss: 2.7345\n",
            "Epoch 2/20\n",
            "172/172 [==============================] - 127s 735ms/step - loss: 1.9948\n",
            "Epoch 3/20\n",
            "172/172 [==============================] - 126s 724ms/step - loss: 1.7093\n",
            "Epoch 4/20\n",
            "172/172 [==============================] - 128s 735ms/step - loss: 1.5457\n",
            "Epoch 5/20\n",
            "172/172 [==============================] - 130s 747ms/step - loss: 1.4452\n",
            "Epoch 6/20\n",
            "172/172 [==============================] - 132s 764ms/step - loss: 1.3765\n",
            "Epoch 7/20\n",
            "172/172 [==============================] - 131s 754ms/step - loss: 1.3242\n",
            "Epoch 8/20\n",
            "172/172 [==============================] - 130s 751ms/step - loss: 1.2793\n",
            "Epoch 9/20\n",
            "172/172 [==============================] - 131s 754ms/step - loss: 1.2370\n",
            "Epoch 10/20\n",
            "172/172 [==============================] - 128s 740ms/step - loss: 1.1977\n",
            "Epoch 11/20\n",
            "172/172 [==============================] - 131s 757ms/step - loss: 1.1568\n",
            "Epoch 12/20\n",
            "172/172 [==============================] - 129s 741ms/step - loss: 1.1157\n",
            "Epoch 13/20\n",
            "172/172 [==============================] - 128s 735ms/step - loss: 1.0715\n",
            "Epoch 14/20\n",
            "172/172 [==============================] - 129s 742ms/step - loss: 1.0241\n",
            "Epoch 15/20\n",
            "172/172 [==============================] - 131s 758ms/step - loss: 0.9751\n",
            "Epoch 16/20\n",
            "172/172 [==============================] - 130s 750ms/step - loss: 0.9228\n",
            "Epoch 17/20\n",
            "172/172 [==============================] - 127s 732ms/step - loss: 0.8710\n",
            "Epoch 18/20\n",
            "172/172 [==============================] - 128s 740ms/step - loss: 0.8181\n",
            "Epoch 19/20\n",
            "172/172 [==============================] - 125s 721ms/step - loss: 0.7654\n",
            "Epoch 20/20\n",
            "172/172 [==============================] - 125s 719ms/step - loss: 0.7169\n"
          ]
        }
      ]
    },
    {
      "cell_type": "code",
      "source": [
        "#@title membuat prediksi satu langkah\n",
        "class OneStep(tf.keras.Model):\n",
        "  def __init__(self, model, chars_from_ids, ids_from_chars, temperature=1.0):\n",
        "    super().__init__()\n",
        "    self.temperature = temperature\n",
        "    self.model = model\n",
        "    self.chars_from_ids = chars_from_ids\n",
        "    self.ids_from_chars = ids_from_chars\n",
        "\n",
        "    # Create a mask to prevent \"[UNK]\" from being generated.\n",
        "    skip_ids = self.ids_from_chars(['[UNK]'])[:, None]\n",
        "    sparse_mask = tf.SparseTensor(\n",
        "        # Put a -inf at each bad index.\n",
        "        values=[-float('inf')]*len(skip_ids),\n",
        "        indices=skip_ids,\n",
        "        # Match the shape to the vocabulary\n",
        "        dense_shape=[len(ids_from_chars.get_vocabulary())])\n",
        "    self.prediction_mask = tf.sparse.to_dense(sparse_mask)\n",
        "\n",
        "  @tf.function\n",
        "  def generate_one_step(self, inputs, states=None):\n",
        "    # Convert strings to token IDs.\n",
        "    input_chars = tf.strings.unicode_split(inputs, 'UTF-8')\n",
        "    input_ids = self.ids_from_chars(input_chars).to_tensor()\n",
        "\n",
        "    # Run the model.\n",
        "    # predicted_logits.shape is [batch, char, next_char_logits]\n",
        "    predicted_logits, states = self.model(inputs=input_ids, states=states,\n",
        "                                          return_state=True)\n",
        "    # Only use the last prediction.\n",
        "    predicted_logits = predicted_logits[:, -1, :]\n",
        "    predicted_logits = predicted_logits/self.temperature\n",
        "    # Apply the prediction mask: prevent \"[UNK]\" from being generated.\n",
        "    predicted_logits = predicted_logits + self.prediction_mask\n",
        "\n",
        "    # Sample the output logits to generate token IDs.\n",
        "    predicted_ids = tf.random.categorical(predicted_logits, num_samples=1)\n",
        "    predicted_ids = tf.squeeze(predicted_ids, axis=-1)\n",
        "\n",
        "    # Convert from token ids to characters\n",
        "    predicted_chars = self.chars_from_ids(predicted_ids)\n",
        "\n",
        "    # Return the characters and model state.\n",
        "    return predicted_chars, states"
      ],
      "metadata": {
        "id": "kiBBTo1h2pGD"
      },
      "execution_count": null,
      "outputs": []
    },
    {
      "cell_type": "code",
      "source": [
        "one_step_model = OneStep(model, chars_from_ids, ids_from_chars)"
      ],
      "metadata": {
        "id": "WDcsnYnv2sd9"
      },
      "execution_count": null,
      "outputs": []
    },
    {
      "cell_type": "code",
      "source": [
        "\n",
        "start = time.time()\n",
        "states = None\n",
        "next_char = tf.constant(['ROMEO:'])\n",
        "result = [next_char]\n",
        "\n",
        "for n in range(1000):\n",
        "  next_char, states = one_step_model.generate_one_step(next_char, states=states)\n",
        "  result.append(next_char)\n",
        "\n",
        "result = tf.strings.join(result)\n",
        "end = time.time()\n",
        "print(result[0].numpy().decode('utf-8'), '\\n\\n' + '_'*80)\n",
        "print('\\nRun time:', end - start)"
      ],
      "metadata": {
        "colab": {
          "base_uri": "https://localhost:8080/"
        },
        "id": "xHHTkNSw2uSl",
        "outputId": "74ca84a7-362a-4ee1-f222-fb62e3f9dab5"
      },
      "execution_count": null,
      "outputs": [
        {
          "output_type": "stream",
          "name": "stdout",
          "text": [
            "ROMEO:\n",
            "Father, how like it plees, to arrivide thee\n",
            "Wait Warwick for the grief this unprupetle than a husband.\n",
            "Shed him God keep your honour, not forbow,\n",
            "Were threefold death, and fearless rise for\n",
            "Angels as launes as a man. O monstrous, not like this:\n",
            "It chances with dignity! advantaging,\n",
            "I thank thee, peach denient to you all, A rinner.\n",
            "\n",
            "Clown:\n",
            "Laid off than we arrest thine on the worst,\n",
            "And by that space of glory sales 'ymaked,\n",
            "He would not be at our pleasure must upon a fight,\n",
            "And but obeyies but hell always will gent.\n",
            "\n",
            "PETRUCHIO:\n",
            "A most innocciaus sir,\n",
            "The movee no chargets to insign thim in their\n",
            "evil, on evil with her.\n",
            "\n",
            "PETRUCHIO:\n",
            "For being a king of slander no marries, lords;\n",
            "Stewn in his lamb, and been waters,\n",
            "And watch an opech. Tut, I chide,\n",
            "To lay my reason mightst not. O,\n",
            "You go within mile and ado.\n",
            "\n",
            "GLOUCESTER:\n",
            "\n",
            "KING EDWARD IV:\n",
            "No, my good forbit Bohemia: answered\n",
            "Deturnedly heaven she's come in pearl;\n",
            "and make my command of the man that bears him from his mistress\n",
            "Builty in his \n",
            "\n",
            "________________________________________________________________________________\n",
            "\n",
            "Run time: 2.8634989261627197\n"
          ]
        }
      ]
    },
    {
      "cell_type": "code",
      "source": [
        "start = time.time()\n",
        "states = None\n",
        "next_char = tf.constant(['ROMEO:', 'ROMEO:', 'ROMEO:', 'ROMEO:', 'ROMEO:'])\n",
        "result = [next_char]\n",
        "\n",
        "for n in range(1000):\n",
        "  next_char, states = one_step_model.generate_one_step(next_char, states=states)\n",
        "  result.append(next_char)\n",
        "\n",
        "result = tf.strings.join(result)\n",
        "end = time.time()\n",
        "print(result, '\\n\\n' + '_'*80)\n",
        "print('\\nRun time:', end - start)"
      ],
      "metadata": {
        "colab": {
          "base_uri": "https://localhost:8080/"
        },
        "id": "CWXlUI7Q2xsz",
        "outputId": "63627b91-5373-4d25-9cf5-dd04497b7e57"
      },
      "execution_count": null,
      "outputs": [
        {
          "output_type": "stream",
          "name": "stdout",
          "text": [
            "tf.Tensor(\n",
            "[b\"ROMEO:\\nI know how we will defend at Thursely's chaff:\\nCome buy, five wild mother, raily tongue,\\nAnd speak I will absend our tongue-corned\\nThe favour hath envious music on,\\nConform'd a carque-man's appears: all poor enemies\\nWill brother of rest o' the tribunes, and together\\nHath branches evoil it little lady, graft lost.\\nWho was this curtaid you not? 'tis well fool,\\nTo twinkled that you'll leave yourself.\\nThe way therein his offences it should\\npreventerning, their safety hate their thrence--when a good mother,\\nThat all the tribunes of the cause of mine\\nOut of death in years in honour,\\nBut from itsin with Paliand heart? and as a Christian\\nfortune still, and so shall see.\\n\\nFirst Keeper:\\nHe'll have you with pild with him.\\n\\nCAMILLO:\\nThat's your daughter: 'tis against whom, forswearing go.\\n\\nBAPTISTA:\\nYou are welcome.\\n\\nAll:\\nComfort.\\n\\nANTONIO:\\nYou most ignoble\\nNumber, but we are and ochines;\\nFor yet thou shalt be joyfully and weepself:\\nThere's smile.\\n\\nPERDITA:\\nSo long charitable doublet!\\n\\nPOLIXENES:\"\n",
            " b\"ROMEO:\\nI pray thee, do you note us;\\nThe favour was as elbown'd, if ever die\\nfor it. This is a strange fellow;\\nAnd the law shall know with drowning down.\\n\\nQUEEN:\\nWho would doubt, my lord.\\n\\nKING RICHARD III:\\nUnless I have oft here alive.\\n\\nThird Servingman:\\nMarry, we were at penfast, Romeo, I pray?\\n\\nQUEEN MARGARET:\\nAy, if the begh begin to know their\\nfoul;\\nBut if I had slain his last ere given\\nupon to know the match.'\\n\\nNurse:\\nAnd but they have the duked for meat: if I\\n\\nall hours are with that regard that I have provided.\\nFarewell, farewell! once more, when the drex o' the coron\\nA blast, as bold as loath with consent,\\nand make receives well deserve, or daughters, my\\nenture in todeans, as the remate. I mean, go, son\\nPersuades my men of wild.\\n\\nKING EDWARD IV:\\nBrothers, then no way hence, from watch of wills,\\nAwaked you, fair parting, repetting a sil\\nYou give me your queen, pount come by the mind; brave it\\nIn all grewers sleep do on the earth--I being go\\nThe gates. What, marry, may sometise!\\nIs't s\"\n",
            " b\"ROMEO:\\nThey threw devining sister, he hath stopp'd not us!\\nBut they at Pomfret mischance, fetch impright him\\nDo growing I have thee down again:\\nIf thou putter'd-fortune fortune since he should be still.\\n\\nFirst Watchman:\\nAy, sir, what are you, sir? This will I live?\\n\\nGRUMIO:\\nA teach; I must not kill thee;\\nFor, assist, if thou cannot pass, faint-look life,\\nMy virtue will be cursed by netting,\\nBut much of contented sufferance. Now is it for Christiancl doubt,\\nHe strange looses under his hateful lurders.\\n\\nDUKE OF YORK:\\nThou dast not, come on, when you please, I loved to't witnds\\nPalmed in the mind of Bost undection.\\n\\nBUCKINGHAM:\\nIt were as follows to thy eye.\\n\\nCORIOLANUS:\\nHe recome of Ruclard, I reppence thee into\\nUntomanot,\\nThere as a cheepieg nurse, and slift and fear\\nTherein who pits estame the king.\\n\\nCLIFFORD:\\nProceeding awry unwonts that one.\\n\\nCORIOLANUS:\\nHow fares myself?\\n\\nMIRANDA:\\nO that my tale, it was become\\nA man or palates. Lay not you wondrous? Say, yourselves\\nOf blood apes, none wit\"\n",
            " b\"ROMEO:\\nHast thou not 'sta'en forth their dumphs?\\n\\nGONZALO:\\nIt is a bride to blaze out my heart wept with him\\nAnd in thy royal fool torture lads thee queen.\\n\\nTRANIO:\\nSay, here he comes. This deeds did kids upon\\nThis fearful thoughts, as they are,\\nThey're not to slave, bewreath a jed to my life,\\nWith extremity rebelines the consequence\\nWith gail and enter at home;\\nAnd that thy brats and who itself in deaths\\nTo joy, the watch, as oppressed gives\\nIn palsage of his shadow\\nTo free men plack as chinfing ried,\\nWhen they rather, as the queen's with a pursuival\\nThe very siety lions in the trust,\\nAnd blush at home, the noble guests my sons,\\nThat might he hath reedive to kindle, and sweetly in his pleasure?\\nThy honour'd moaths, not ancient motion;\\nAnd not a faily lineal whither\\nTo give your honour's parting, will you go to chroo my\\nThe Duke of Norn and for alliance,\\nNever seen nothing but a torment of that\\ndown, faintly answer, by some pity in thy loss,\\nBut sender shame in heaven,--almost the world,\\nLik\"\n",
            " b\"ROMEO:\\nTo express young prince, how heavens hast thought,\\nWhen 'tis proud as I come unto my jout,\\nAnd will begin with shining dance.\\nHark, of four shot, and it is content:\\nAs that o'cl did first will come out\\nThat thou wert thus: 'Of she did sweet Braggans:'\\nWhat, is there is't? you, grandam. Whether a great king,\\nBut by 'the mean Bohemia: now\\nI shall grant in spite of a thing,\\nAnd with a sight of inextraings and take his\\nlife, like one another and as it is;\\nYou know my further privilege of mine.\\n\\nLUCIO:\\nThou'ldst that that bably follow'd hither govern'd\\nMusicians; for he hath got a breating heir\\nAnd did I lay no changing.\\n\\nMERCUTIO:\\nCome, uncle, and we'll pay that they are:\\nWhere is the villain, Whom I am heard, and hear,\\nMy place is ten times, who is all their power\\nWill company him every and swell\\nWhich she had the throne the sacraged foolish done.\\nThen didst thou not been the princess of false fashion,\\nYet in the way to credit back and lay makes fickle:\\nShe is avoint what masters and idl\"], shape=(5,), dtype=string) \n",
            "\n",
            "________________________________________________________________________________\n",
            "\n",
            "Run time: 2.5343329906463623\n"
          ]
        }
      ]
    },
    {
      "cell_type": "code",
      "source": [
        "tf.saved_model.save(one_step_model, 'one_step')\n",
        "one_step_reloaded = tf.saved_model.load('one_step')"
      ],
      "metadata": {
        "colab": {
          "base_uri": "https://localhost:8080/"
        },
        "id": "U6iRdx4Fhre-",
        "outputId": "d45944a7-c616-4191-a6ba-0f736972ac02"
      },
      "execution_count": null,
      "outputs": [
        {
          "output_type": "stream",
          "name": "stderr",
          "text": [
            "WARNING:tensorflow:Skipping full serialization of Keras layer <__main__.OneStep object at 0x7bd514261360>, because it is not built.\n",
            "WARNING:tensorflow:Model's `__init__()` arguments contain non-serializable objects. Please implement a `get_config()` method in the subclassed Model for proper saving and loading. Defaulting to empty config.\n",
            "WARNING:tensorflow:Model's `__init__()` arguments contain non-serializable objects. Please implement a `get_config()` method in the subclassed Model for proper saving and loading. Defaulting to empty config.\n"
          ]
        }
      ]
    },
    {
      "cell_type": "code",
      "source": [
        "\n",
        "states = None\n",
        "next_char = tf.constant(['ROMEO:'])\n",
        "result = [next_char]\n",
        "\n",
        "for n in range(100):\n",
        "  next_char, states = one_step_reloaded.generate_one_step(next_char, states=states)\n",
        "  result.append(next_char)\n",
        "\n",
        "print(tf.strings.join(result)[0].numpy().decode(\"utf-8\"))"
      ],
      "metadata": {
        "colab": {
          "base_uri": "https://localhost:8080/"
        },
        "id": "adAaH8QC58At",
        "outputId": "4efe5187-f98c-49b6-8873-9a4b2e871cdf"
      },
      "execution_count": null,
      "outputs": [
        {
          "output_type": "stream",
          "name": "stdout",
          "text": [
            "ROMEO:\n",
            "The mighty any soft and mildly;\n",
            "But since he did serve thee, for the law;\n",
            "And then I see unto Cooki\n"
          ]
        }
      ]
    },
    {
      "cell_type": "markdown",
      "source": [
        "#Tugas"
      ],
      "metadata": {
        "id": "xofPiU4XXpTS"
      }
    },
    {
      "cell_type": "markdown",
      "source": [
        "### **Membuat Custom Loop Training**\n"
      ],
      "metadata": {
        "id": "yIBhhC64U9aE"
      }
    },
    {
      "cell_type": "code",
      "source": [
        "class CustomTraining(MyModel):\n",
        "  @tf.function\n",
        "  def train_step(self, inputs):\n",
        "      inputs, labels = inputs\n",
        "      with tf.GradientTape() as tape:\n",
        "          predictions = self(inputs, training=True)\n",
        "          loss = self.loss(labels, predictions)\n",
        "      grads = tape.gradient(loss, model.trainable_variables)\n",
        "      self.optimizer.apply_gradients(zip(grads, model.trainable_variables))\n",
        "\n",
        "      return {'loss': loss}"
      ],
      "metadata": {
        "id": "FShMyhRaXo5c"
      },
      "execution_count": null,
      "outputs": []
    },
    {
      "cell_type": "code",
      "source": [
        "#@title Menjalankan Custom Training\n",
        "model = CustomTraining(\n",
        "    vocab_size=len(ids_from_chars.get_vocabulary()),\n",
        "    embedding_dim=embedding_dim,\n",
        "    rnn_units=rnn_units)"
      ],
      "metadata": {
        "id": "tV6k7Nl_Xt6U"
      },
      "execution_count": null,
      "outputs": []
    },
    {
      "cell_type": "code",
      "source": [
        "model.compile(optimizer = tf.keras.optimizers.Adam(),\n",
        "              loss=tf.keras.losses.SparseCategoricalCrossentropy(from_logits=True))"
      ],
      "metadata": {
        "id": "wSr9qH0ZXvZh"
      },
      "execution_count": null,
      "outputs": []
    },
    {
      "cell_type": "code",
      "source": [
        "model.fit(dataset, epochs=1)"
      ],
      "metadata": {
        "id": "0-OXYRl0XwvD",
        "colab": {
          "base_uri": "https://localhost:8080/"
        },
        "outputId": "0ffce44f-ba69-4601-82dc-b7e7ea35dd2f"
      },
      "execution_count": null,
      "outputs": [
        {
          "output_type": "stream",
          "name": "stdout",
          "text": [
            "172/172 [==============================] - 129s 727ms/step - loss: 2.7195\n"
          ]
        },
        {
          "output_type": "execute_result",
          "data": {
            "text/plain": [
              "<keras.src.callbacks.History at 0x7bd3dc15e830>"
            ]
          },
          "metadata": {},
          "execution_count": 50
        }
      ]
    },
    {
      "cell_type": "code",
      "source": [
        "#@title Cek Detail Loop dalam train\n",
        "EPOCHS = 10\n",
        "\n",
        "mean = tf.metrics.Mean()\n",
        "\n",
        "for epoch in range(EPOCHS):\n",
        "    start = time.time()\n",
        "\n",
        "    mean.reset_states()\n",
        "    for (batch_n, (inp, target)) in enumerate(dataset):\n",
        "        logs = model.train_step([inp, target])\n",
        "        mean.update_state(logs['loss'])\n",
        "\n",
        "        if batch_n % 50 == 0:\n",
        "            template = f\"Epoch {epoch+1} Batch {batch_n} Loss {logs['loss']:.4f}\"\n",
        "            print(template)\n",
        "\n",
        "    # saving (checkpoint) the model every 5 epochs\n",
        "    if (epoch + 1) % 5 == 0:\n",
        "        model.save_weights(checkpoint_prefix.format(epoch=epoch))\n",
        "\n",
        "    print()\n",
        "    print(f'Epoch {epoch+1} Loss: {mean.result().numpy():.4f}')\n",
        "    print(f'Time taken for 1 epoch {time.time() - start:.2f} sec')\n",
        "    print(\"_\"*80)\n",
        "\n",
        "model.save_weights(checkpoint_prefix.format(epoch=epoch))"
      ],
      "metadata": {
        "id": "8oyLbq-oXzIT",
        "colab": {
          "base_uri": "https://localhost:8080/"
        },
        "outputId": "01ff16f1-0c98-4a00-a3c7-7afe7cd12b24"
      },
      "execution_count": null,
      "outputs": [
        {
          "output_type": "stream",
          "name": "stdout",
          "text": [
            "Epoch 1 Batch 0 Loss 2.1850\n",
            "Epoch 1 Batch 50 Loss 2.0100\n",
            "Epoch 1 Batch 100 Loss 1.9793\n",
            "Epoch 1 Batch 150 Loss 1.8978\n",
            "\n",
            "Epoch 1 Loss: 1.9910\n",
            "Time taken for 1 epoch 131.25 sec\n",
            "________________________________________________________________________________\n",
            "Epoch 2 Batch 0 Loss 1.7583\n",
            "Epoch 2 Batch 50 Loss 1.7426\n",
            "Epoch 2 Batch 100 Loss 1.7105\n",
            "Epoch 2 Batch 150 Loss 1.6205\n",
            "\n",
            "Epoch 2 Loss: 1.7069\n",
            "Time taken for 1 epoch 129.38 sec\n",
            "________________________________________________________________________________\n",
            "Epoch 3 Batch 0 Loss 1.6091\n",
            "Epoch 3 Batch 50 Loss 1.5600\n",
            "Epoch 3 Batch 100 Loss 1.5067\n",
            "Epoch 3 Batch 150 Loss 1.5496\n",
            "\n",
            "Epoch 3 Loss: 1.5462\n",
            "Time taken for 1 epoch 127.84 sec\n",
            "________________________________________________________________________________\n",
            "Epoch 4 Batch 0 Loss 1.4722\n",
            "Epoch 4 Batch 50 Loss 1.4558\n",
            "Epoch 4 Batch 100 Loss 1.4707\n",
            "Epoch 4 Batch 150 Loss 1.4101\n",
            "\n",
            "Epoch 4 Loss: 1.4483\n",
            "Time taken for 1 epoch 128.07 sec\n",
            "________________________________________________________________________________\n",
            "Epoch 5 Batch 0 Loss 1.3646\n",
            "Epoch 5 Batch 50 Loss 1.3609\n",
            "Epoch 5 Batch 100 Loss 1.3980\n",
            "Epoch 5 Batch 150 Loss 1.4112\n",
            "\n",
            "Epoch 5 Loss: 1.3794\n",
            "Time taken for 1 epoch 127.86 sec\n",
            "________________________________________________________________________________\n",
            "Epoch 6 Batch 0 Loss 1.3268\n",
            "Epoch 6 Batch 50 Loss 1.3024\n",
            "Epoch 6 Batch 100 Loss 1.3029\n",
            "Epoch 6 Batch 150 Loss 1.3502\n",
            "\n",
            "Epoch 6 Loss: 1.3276\n",
            "Time taken for 1 epoch 128.03 sec\n",
            "________________________________________________________________________________\n",
            "Epoch 7 Batch 0 Loss 1.2705\n",
            "Epoch 7 Batch 50 Loss 1.2735\n",
            "Epoch 7 Batch 100 Loss 1.2768\n",
            "Epoch 7 Batch 150 Loss 1.3073\n",
            "\n",
            "Epoch 7 Loss: 1.2823\n",
            "Time taken for 1 epoch 128.47 sec\n",
            "________________________________________________________________________________\n",
            "Epoch 8 Batch 0 Loss 1.2563\n",
            "Epoch 8 Batch 50 Loss 1.2313\n",
            "Epoch 8 Batch 100 Loss 1.2756\n",
            "Epoch 8 Batch 150 Loss 1.2486\n",
            "\n",
            "Epoch 8 Loss: 1.2409\n",
            "Time taken for 1 epoch 129.78 sec\n",
            "________________________________________________________________________________\n",
            "Epoch 9 Batch 0 Loss 1.1694\n",
            "Epoch 9 Batch 50 Loss 1.1943\n",
            "Epoch 9 Batch 100 Loss 1.2152\n",
            "Epoch 9 Batch 150 Loss 1.2029\n",
            "\n",
            "Epoch 9 Loss: 1.2021\n",
            "Time taken for 1 epoch 127.62 sec\n",
            "________________________________________________________________________________\n",
            "Epoch 10 Batch 0 Loss 1.1205\n",
            "Epoch 10 Batch 50 Loss 1.1345\n",
            "Epoch 10 Batch 100 Loss 1.1846\n",
            "Epoch 10 Batch 150 Loss 1.1759\n",
            "\n",
            "Epoch 10 Loss: 1.1621\n",
            "Time taken for 1 epoch 129.36 sec\n",
            "________________________________________________________________________________\n"
          ]
        }
      ]
    },
    {
      "cell_type": "markdown",
      "source": [
        "### **PERBEDAAN DENGAN PRAKTIKUM 2**\n"
      ],
      "metadata": {
        "id": "ePnfA7f6XTpB"
      }
    },
    {
      "cell_type": "markdown",
      "source": [
        "## Perbedaan 1\n",
        "Kustomisasi train_step dalam Program Tugas:\n",
        "\n",
        "Program Tugas menggunakan kelas CustomTraining, yang meng-override metode train_step. Ini memungkinkan kita untuk mendefinisikan langkah-langkah training secara manual dengan GradientTape untuk menangani proses pelatihan dan perhitungan gradien.\n",
        "\n",
        "Pada Program Praktikum 2, model training dilakukan secara langsung dengan model.fit(...) tanpa kustomisasi train_step, menggunakan langkah default yang disediakan oleh TensorFlow.\n",
        "\n",
        "Dengan train_step, Program Tugas memiliki kendali lebih besar atas proses training, seperti menghitung loss secara manual dan menentukan kapan serta bagaimana gradien diterapkan. Ini berguna untuk eksperimen khusus atau kebutuhan pelatihan yang lebih kompleks."
      ],
      "metadata": {
        "id": "Z7T0jsqCXaUZ"
      }
    },
    {
      "cell_type": "markdown",
      "source": [
        "## Perbedaan 2\n",
        "Perhitungan dan Pelaporan Loss dalam Loop Training:\n",
        "\n",
        "Pada Program Tugas, setelah setiap batch di setiap epoch, loss disimpan dan diperbarui dengan tf.metrics.Mean() untuk memberikan rata-rata loss per epoch. Program juga menampilkan loss setiap 50 batch untuk memantau perkembangan selama training.\n",
        "\n",
        "Program Praktikum 2 tidak melakukan ini secara eksplisit. Loss hanya ditampilkan sebagai hasil akhir dari model.fit(...), tanpa detail per batch."
      ],
      "metadata": {
        "id": "_tgmMdy7XpR4"
      }
    },
    {
      "cell_type": "markdown",
      "source": [
        "## Perbedaan 3\n",
        "Penyimpanan Model sebagai Checkpoint:\n",
        "\n",
        "Dalam Program Tugas, model disimpan setiap 5 epoch secara manual menggunakan model.save_weights(...), serta pada akhir training. Ini dilakukan untuk menjaga checkpoint secara berkala, yang membantu menghindari kehilangan progres pelatihan jika terjadi kegagalan.\n",
        "Di Program Praktikum 2, penyimpanan checkpoint dilakukan dengan callback ModelCheckpoint, yang mengotomatiskan penyimpanan model di setiap epoch sesuai konfigurasi yang diberikan.\n"
      ],
      "metadata": {
        "id": "6z_gk0wQX0wt"
      }
    },
    {
      "cell_type": "markdown",
      "source": [
        "## Kesimpulan\n",
        "\n",
        "Program Tugas dirancang dengan pendekatan yang lebih rendah (low-level) dan memberi kendali lebih besar atas proses pelatihan, cocok untuk eksperimen atau kasus di mana logika pelatihan yang kustom diperlukan. Program Praktkum 2 menggunakan API tinggi TensorFlow, yang lebih ringkas dan cocok untuk pelatihan standar atau cepat."
      ],
      "metadata": {
        "id": "BVhr-eFYX4yj"
      }
    }
  ]
}